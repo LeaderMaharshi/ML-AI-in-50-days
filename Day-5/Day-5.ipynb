{
 "cells": [
  {
   "cell_type": "markdown",
   "metadata": {},
   "source": [
    "Question 1 :\n",
    "Write a Python program to find the first 20 non-even prime natural numbers.\n"
   ]
  },
  {
   "cell_type": "code",
   "execution_count": 11,
   "metadata": {},
   "outputs": [
    {
     "name": "stdout",
     "output_type": "stream",
     "text": [
      "2 3 5 7 11 13 17 19 23 29 31 37 41 43 47 53 59 61 67 71 "
     ]
    }
   ],
   "source": [
    "N=72  \n",
    "for a in range(2,N+1):  \n",
    "    k=0  \n",
    "    for i in range(2,a//2+1):  \n",
    "        if(a%i==0):  \n",
    "            k=k+1  \n",
    "    if(k<=0):  \n",
    "        print(a,end=\" \")   "
   ]
  },
  {
   "cell_type": "markdown",
   "metadata": {},
   "source": [
    "Question 2 :\n",
    "Write a Python program to implement 15 functions of string.\n"
   ]
  },
  {
   "cell_type": "code",
   "execution_count": 1,
   "metadata": {},
   "outputs": [],
   "source": [
    "x = \"Leader Maharshi\""
   ]
  },
  {
   "cell_type": "code",
   "execution_count": 3,
   "metadata": {},
   "outputs": [
    {
     "name": "stdout",
     "output_type": "stream",
     "text": [
      "Leader Maharshi\n"
     ]
    }
   ],
   "source": [
    "print(x)"
   ]
  },
  {
   "cell_type": "code",
   "execution_count": 24,
   "metadata": {},
   "outputs": [
    {
     "name": "stdout",
     "output_type": "stream",
     "text": [
      "lEADER mAHARSHI\n",
      "leader maharshi\n",
      "LEADER MAHARSHI\n",
      "False\n",
      "Leader zaharshi\n",
      "15\n",
      "2\n",
      "-1\n",
      "  Leader Maharshi   \n",
      "3\n",
      "False\n",
      "True\n",
      "False\n",
      "False\n",
      "9\n"
     ]
    }
   ],
   "source": [
    "print(x.swapcase())\n",
    "print(x.lower())\n",
    "print(x.upper())\n",
    "print(x.isalpha())\n",
    "print(x.replace('M','z'))\n",
    "print(len(x))\n",
    "print(x.find('a'))\n",
    "print(x.find('h',4,6))\n",
    "print(x.center(20))\n",
    "print(x.count(\"a\"))\n",
    "print(x.islower())\n",
    "print(x.isprintable())\n",
    "print(x.isdigit())\n",
    "print(x.isnumeric())\n",
    "print(x.index(\"h\"))"
   ]
  },
  {
   "cell_type": "markdown",
   "metadata": {},
   "source": [
    "Question 3:\n",
    "Write a Python program to check if the given string is a Palindrome or Anagram or None of them.\n",
    "Display the message accordingly to the user."
   ]
  },
  {
   "cell_type": "code",
   "execution_count": 27,
   "metadata": {},
   "outputs": [
    {
     "name": "stdout",
     "output_type": "stream",
     "text": [
      "I m telugu m I is a anagram.\n"
     ]
    }
   ],
   "source": [
    "s1=\"I m telugu m I\" \n",
    "s2=s1[::-1]\n",
    "if s1==s2:\n",
    "    print(s1,\" is a palindrome\")\n",
    "elif sorted(s1)== sorted(s2):\n",
    "    print(s1,\"is a anagram.\")\n",
    "else:\n",
    "    print(\"None of them\")"
   ]
  },
  {
   "cell_type": "markdown",
   "metadata": {},
   "source": [
    "Question 4:\n",
    "Write a Python's user defined function that removes all the additional characters from the string\n",
    "and converts it finally to lower case using built-in lower(). eg: If the string is \"Dr. Darshan Ingle\n",
    "@AI-ML Trainer\", then the output be \"drdarshaningleaimltrainer\"."
   ]
  },
  {
   "cell_type": "code",
   "execution_count": 16,
   "metadata": {},
   "outputs": [
    {
     "name": "stdout",
     "output_type": "stream",
     "text": [
      "drdarshaningleaimltrainer\n"
     ]
    }
   ],
   "source": [
    "import re\n",
    "def string_modification(x):\n",
    "    y = re.sub(r'\\W+', ' ', x)\n",
    "    z = y.replace(\" \", \"\")\n",
    "    a = z.lower()\n",
    "    print(a)\n",
    "string_modification(\"Dr. Darshan Ingle @AI-ML Trainer\")\n"
   ]
  },
  {
   "cell_type": "code",
   "execution_count": null,
   "metadata": {},
   "outputs": [],
   "source": []
  }
 ],
 "metadata": {
  "kernelspec": {
   "display_name": "Python 3",
   "language": "python",
   "name": "python3"
  },
  "language_info": {
   "codemirror_mode": {
    "name": "ipython",
    "version": 3
   },
   "file_extension": ".py",
   "mimetype": "text/x-python",
   "name": "python",
   "nbconvert_exporter": "python",
   "pygments_lexer": "ipython3",
   "version": "3.7.6"
  }
 },
 "nbformat": 4,
 "nbformat_minor": 4
}
